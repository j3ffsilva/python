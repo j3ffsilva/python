{
 "cells": [
  {
   "cell_type": "markdown",
   "id": "e568a82f",
   "metadata": {},
   "source": [
    "# Lista de Exercícios\n",
    "\n",
    "#### Algoritmos e Lógica de Programação | Estruturas de seleção"
   ]
  },
  {
   "cell_type": "markdown",
   "id": "2c70627a",
   "metadata": {},
   "source": [
    "**[01]** Escreva um programa que receba dois números e verifique se os números são iguais."
   ]
  },
  {
   "cell_type": "markdown",
   "id": "55e8fee7",
   "metadata": {},
   "source": [
    "**[02]** Escreva um programa que receba dois números e calcule a média."
   ]
  },
  {
   "cell_type": "markdown",
   "id": "8a84497b",
   "metadata": {},
   "source": [
    "**[03]** Escreva um programa que receba um número $m$ e outro número $n$ e calcule $m^n$."
   ]
  },
  {
   "cell_type": "markdown",
   "id": "71724cda",
   "metadata": {},
   "source": [
    "**[04]** Escreva um programa que receba dois números e calcule a divisão de um pelo outro."
   ]
  },
  {
   "cell_type": "markdown",
   "id": "0a15aaa6",
   "metadata": {},
   "source": [
    "**[05]** Escreva um programa que receba o capital investido ($c$), a taxa de juros ($i$) e o período de tempo ($t$) e calcule o montante acumulado."
   ]
  },
  {
   "cell_type": "markdown",
   "id": "1f6cc910",
   "metadata": {},
   "source": [
    "**[06]** Escreva um programa que receba o tamanho de dois catetos ($c_{1}$ e $c_{2}$) e calcule o valor da hipotenusa de um triângulo."
   ]
  },
  {
   "cell_type": "markdown",
   "id": "2aaecd52",
   "metadata": {},
   "source": [
    "**[07]** Escreva um programa que receba o raio ($r$) e calcule a área do círculo."
   ]
  },
  {
   "cell_type": "markdown",
   "id": "d07e03f5",
   "metadata": {},
   "source": [
    "**[08]** Escreva um programa que receba o lado de um quadrado ($l$) e calcule sua área."
   ]
  },
  {
   "cell_type": "markdown",
   "id": "ff9c51ce",
   "metadata": {},
   "source": [
    "**[09]** Escreva um programa que receba três números e calcule sua média."
   ]
  },
  {
   "cell_type": "markdown",
   "id": "1044cc9a",
   "metadata": {},
   "source": [
    "**[10]** Escreva um programa em que o usuário entra com dois números ($n_{1}$ e $n_{2}$) e uma operação ($+$ para soma, e $-$ para subtração). O programa deve realizar a operação solicitada pelo usuário e imprimir a resposta."
   ]
  },
  {
   "cell_type": "markdown",
   "id": "0ff1d421",
   "metadata": {},
   "source": [
    "**[11]** Escreva um programa que receba uma temperatura e a classifica como QUENTE ($>30$), MORNO ($20$-$29$) ou FRIO ($<20$)."
   ]
  },
  {
   "cell_type": "markdown",
   "id": "bf914a74",
   "metadata": {},
   "source": [
    "**[12]** Escreva um programa que receba um número e o classifique como par ou ímpar."
   ]
  },
  {
   "cell_type": "markdown",
   "id": "639c6327",
   "metadata": {},
   "source": [
    "**[13]** Escreva um programa que receba uma idade e verifique se a pessoa tem idade para votar ou não."
   ]
  },
  {
   "cell_type": "markdown",
   "id": "879175cc",
   "metadata": {},
   "source": [
    "**[14]** Escreva um programa que transforme uma nota numérica em um conceito de acordo com a tabela a seguir.\n",
    "\n",
    "| Nota | Conceito |\n",
    "|------|:---------:|\n",
    "|  $\\geq9$   | A  | \n",
    "|  $\\geq7$   | B  | \n",
    "|  $\\geq5$   | C  | \n",
    "|  $\\geq3$   | D  | \n",
    "|  $\\geq0$   | E  | "
   ]
  },
  {
   "cell_type": "markdown",
   "id": "fe2aa00f",
   "metadata": {},
   "source": [
    "**[15]** Escreva um programa para determinar se um ano é bissexto ou não."
   ]
  }
 ],
 "metadata": {
  "kernelspec": {
   "display_name": "Python 3",
   "language": "python",
   "name": "python3"
  },
  "language_info": {
   "codemirror_mode": {
    "name": "ipython",
    "version": 3
   },
   "file_extension": ".py",
   "mimetype": "text/x-python",
   "name": "python",
   "nbconvert_exporter": "python",
   "pygments_lexer": "ipython3",
   "version": "3.8.8"
  }
 },
 "nbformat": 4,
 "nbformat_minor": 5
}
